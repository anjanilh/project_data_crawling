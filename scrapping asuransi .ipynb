{
 "cells": [
  {
   "cell_type": "code",
   "execution_count": 1,
   "id": "533edb9c",
   "metadata": {},
   "outputs": [
    {
     "name": "stdout",
     "output_type": "stream",
     "text": [
      "Requirement already satisfied: bs4 in c:\\users\\hp\\anaconda3\\lib\\site-packages (0.0.1)\n",
      "Requirement already satisfied: beautifulsoup4 in c:\\users\\hp\\anaconda3\\lib\\site-packages (from bs4) (4.11.1)\n",
      "Requirement already satisfied: soupsieve>1.2 in c:\\users\\hp\\anaconda3\\lib\\site-packages (from beautifulsoup4->bs4) (2.3.1)\n"
     ]
    }
   ],
   "source": [
    "!pip install bs4"
   ]
  },
  {
   "cell_type": "code",
   "execution_count": 2,
   "id": "8ca416c6",
   "metadata": {},
   "outputs": [],
   "source": [
    "from bs4 import BeautifulSoup\n",
    "import requests\n",
    "import pandas as pd\n",
    "import csv"
   ]
  },
  {
   "cell_type": "code",
   "execution_count": 3,
   "id": "892dbaf3",
   "metadata": {},
   "outputs": [],
   "source": [
    "page = requests.get('https://klikalamat.com/daftar-nama-dan-alamat-perusahaan-asuransi-indonesia/')"
   ]
  },
  {
   "cell_type": "code",
   "execution_count": 4,
   "id": "6e7d172b",
   "metadata": {},
   "outputs": [],
   "source": [
    "soup = BeautifulSoup(page.content ,'html.parser')"
   ]
  },
  {
   "cell_type": "code",
   "execution_count": 5,
   "id": "f897143d",
   "metadata": {},
   "outputs": [
    {
     "data": {
      "text/plain": [
       "'PT. Asuransi Jiwa Adisarana Wanartha'"
      ]
     },
     "execution_count": 5,
     "metadata": {},
     "output_type": "execute_result"
    }
   ],
   "source": [
    "soup.find('h2', class_='entry-title').text"
   ]
  },
  {
   "cell_type": "code",
   "execution_count": 6,
   "id": "0247f336",
   "metadata": {},
   "outputs": [
    {
     "data": {
      "text/plain": [
       "'(621) 798-5179'"
      ]
     },
     "execution_count": 6,
     "metadata": {},
     "output_type": "execute_result"
    }
   ],
   "source": [
    "soup.find('p', class_='phone').text"
   ]
  },
  {
   "cell_type": "code",
   "execution_count": 7,
   "id": "dab0373e",
   "metadata": {},
   "outputs": [
    {
     "data": {
      "text/plain": [
       "'76 Jl. Mampang Prapatan Jakarta, 12790 Indonesia'"
      ]
     },
     "execution_count": 7,
     "metadata": {},
     "output_type": "execute_result"
    }
   ],
   "source": [
    "soup.find('p', class_='address').text"
   ]
  },
  {
   "cell_type": "code",
   "execution_count": 8,
   "id": "3562abfb",
   "metadata": {},
   "outputs": [],
   "source": [
    "perusahaan_asuransi = soup.find_all('h2', class_='entry-title')   "
   ]
  },
  {
   "cell_type": "code",
   "execution_count": 9,
   "id": "ecbc4e9e",
   "metadata": {},
   "outputs": [],
   "source": [
    "kontak = soup.find_all('p', class_='phone')   "
   ]
  },
  {
   "cell_type": "code",
   "execution_count": 10,
   "id": "c8d0c24f",
   "metadata": {},
   "outputs": [],
   "source": [
    "alamat = soup.find_all('p', class_='address')   "
   ]
  },
  {
   "cell_type": "code",
   "execution_count": 11,
   "id": "6b999f6c",
   "metadata": {},
   "outputs": [
    {
     "name": "stdout",
     "output_type": "stream",
     "text": [
      "PT. Asuransi Jiwa Adisarana Wanartha\n",
      "PT.Asuransi Buana Independent\n",
      "PT Asuransi Asei Indonesia\n",
      "PT ASURANSI EKA LLOYD JAYA\n",
      "PT.Asuransi Bina Dana Arta\n",
      "PT Lippo General Insurance\n",
      "PT. QBE General Insurance Indonesia\n",
      "PT Sompo Insurance Indonesia\n",
      "PT Asuransi Rama Satria Wibawa\n",
      "PT Asuransi Purna Artanugraha\n",
      "PT.Asuransi Himalaya Pelindung\n",
      "PT.BRINS General Insurance\n"
     ]
    }
   ],
   "source": [
    "for each_perusahaan_asuransi in perusahaan_asuransi :\n",
    "    print (each_perusahaan_asuransi.text)"
   ]
  },
  {
   "cell_type": "code",
   "execution_count": 12,
   "id": "80a7ab33",
   "metadata": {},
   "outputs": [
    {
     "name": "stdout",
     "output_type": "stream",
     "text": [
      "(621) 798-5179\n",
      "(021)  6266286\n",
      "(021) 3503737\n",
      "(021) 29533260\n",
      "(021) 51401688\n",
      "(021) 5256161\n",
      " (021) 5723737 \n",
      "(021) 2500890\n",
      "(021) 5261221 \n",
      "(021) 5255070\n",
      "(021) 29067188\n",
      "(021) 79170477 / 78\n"
     ]
    }
   ],
   "source": [
    "for each_kontak in kontak :\n",
    "    print (each_kontak.text)"
   ]
  },
  {
   "cell_type": "code",
   "execution_count": 13,
   "id": "7188647b",
   "metadata": {},
   "outputs": [
    {
     "name": "stdout",
     "output_type": "stream",
     "text": [
      "76 Jl. Mampang Prapatan Jakarta, 12790 Indonesia\n",
      "Jl. Pintu Besar Selatan No.78 - Jakarta 11110\n",
      "Gedung Graha Asei lantai 3 Jl. Abdul Muis No. 110 Jakarta Pusat\n",
      "Gedung H Tower,Lantai 11,Unit F & G ,JL H,R.Rasuna Said Kav.20 Jakarta Selatan 12940\n",
      "Plaza ABDA, 27th Floor Jl. Jendral Sudirman Kav.59 DKI Jakarta Indonesia 12190\n",
      "Lippo Kuningan Building Lt.27 Unit A & F Jl. H.R Rasuna Said Kav. B-12 Jakarta Selatan 12940 Indonesia\n",
      "MidPlaza 2, 23rd Floor, Jalan Jenderal Sudirman Kav 10-11, Jakarta 10220, Indonesia\n",
      "Mayapada Tower II, 19th Floor - Jl. Jendral Sudirman Kav. 27 - Jakarta 12920 Indonesia\n",
      "Graha Irama 10th Floor Jl. H.R. Rasuna Said Blok X-1 Kav. 1 & 2 Jakarta Selatan\n",
      "Wisma Bumiputera Lt.16 Jl. Jenderal Sudirman Kav.75 Jakarta Selatan 12910\n",
      "Himalaya Pelindung Insurance Building Lantai 3B MTH Square, JL.M.T.Haryono Kav.10 Jakarta 13330, Indonesia\n",
      "Jl. Mampang Prapatan Raya No. 18 Jakarta Selatan DKI Jakarta, Indonesia 12790\n"
     ]
    }
   ],
   "source": [
    "for each_alamat in alamat :\n",
    "    print (each_alamat.text)"
   ]
  },
  {
   "cell_type": "code",
   "execution_count": 14,
   "id": "9f0e4a50",
   "metadata": {},
   "outputs": [],
   "source": [
    "daftar_asuransi = []\n",
    "for each_perusahaan_asuransi in perusahaan_asuransi:\n",
    "    daftar_asuransi.append(each_perusahaan_asuransi.text)"
   ]
  },
  {
   "cell_type": "code",
   "execution_count": 15,
   "id": "d29f8f5b",
   "metadata": {},
   "outputs": [
    {
     "data": {
      "text/plain": [
       "['PT. Asuransi Jiwa Adisarana Wanartha',\n",
       " 'PT.Asuransi Buana Independent',\n",
       " 'PT Asuransi Asei Indonesia',\n",
       " 'PT ASURANSI EKA LLOYD JAYA',\n",
       " 'PT.Asuransi Bina Dana Arta',\n",
       " 'PT Lippo General Insurance',\n",
       " 'PT. QBE General Insurance Indonesia',\n",
       " 'PT Sompo Insurance Indonesia',\n",
       " 'PT Asuransi Rama Satria Wibawa',\n",
       " 'PT Asuransi Purna Artanugraha',\n",
       " 'PT.Asuransi Himalaya Pelindung',\n",
       " 'PT.BRINS General Insurance']"
      ]
     },
     "execution_count": 15,
     "metadata": {},
     "output_type": "execute_result"
    }
   ],
   "source": [
    "daftar_asuransi"
   ]
  },
  {
   "cell_type": "code",
   "execution_count": 16,
   "id": "b058ac87",
   "metadata": {},
   "outputs": [],
   "source": [
    "daftar_kontak = []\n",
    "for each_kontak in kontak:\n",
    "    daftar_kontak.append(each_kontak.text)"
   ]
  },
  {
   "cell_type": "code",
   "execution_count": 17,
   "id": "09a26054",
   "metadata": {},
   "outputs": [
    {
     "data": {
      "text/plain": [
       "['(621) 798-5179',\n",
       " '(021)  6266286',\n",
       " '(021) 3503737',\n",
       " '(021) 29533260',\n",
       " '(021) 51401688',\n",
       " '(021) 5256161',\n",
       " ' (021) 5723737 ',\n",
       " '(021) 2500890',\n",
       " '(021) 5261221 ',\n",
       " '(021) 5255070',\n",
       " '(021) 29067188',\n",
       " '(021) 79170477 / 78']"
      ]
     },
     "execution_count": 17,
     "metadata": {},
     "output_type": "execute_result"
    }
   ],
   "source": [
    "daftar_kontak"
   ]
  },
  {
   "cell_type": "code",
   "execution_count": 18,
   "id": "61c4198f",
   "metadata": {},
   "outputs": [],
   "source": [
    "daftar_alamat = []\n",
    "for each_alamat in alamat:\n",
    "    daftar_alamat.append(each_alamat.text)"
   ]
  },
  {
   "cell_type": "code",
   "execution_count": 19,
   "id": "98acef3c",
   "metadata": {},
   "outputs": [
    {
     "data": {
      "text/plain": [
       "['76 Jl. Mampang Prapatan Jakarta, 12790 Indonesia',\n",
       " 'Jl. Pintu Besar Selatan No.78 - Jakarta 11110',\n",
       " 'Gedung Graha Asei lantai 3 Jl. Abdul Muis No. 110 Jakarta Pusat',\n",
       " 'Gedung H Tower,Lantai 11,Unit F & G ,JL H,R.Rasuna Said Kav.20 Jakarta Selatan 12940',\n",
       " 'Plaza ABDA, 27th Floor Jl. Jendral Sudirman Kav.59 DKI Jakarta Indonesia 12190',\n",
       " 'Lippo Kuningan Building Lt.27 Unit A & F Jl. H.R Rasuna Said Kav. B-12 Jakarta Selatan 12940 Indonesia',\n",
       " 'MidPlaza 2, 23rd Floor, Jalan Jenderal Sudirman Kav 10-11, Jakarta 10220, Indonesia',\n",
       " 'Mayapada Tower II, 19th Floor - Jl. Jendral Sudirman Kav. 27 - Jakarta 12920 Indonesia',\n",
       " 'Graha Irama 10th Floor Jl. H.R. Rasuna Said Blok X-1 Kav. 1 & 2 Jakarta Selatan',\n",
       " 'Wisma Bumiputera Lt.16 Jl. Jenderal Sudirman Kav.75 Jakarta Selatan 12910',\n",
       " 'Himalaya Pelindung Insurance Building Lantai 3B MTH Square, JL.M.T.Haryono Kav.10 Jakarta 13330, Indonesia',\n",
       " 'Jl. Mampang Prapatan Raya No. 18 Jakarta Selatan DKI Jakarta, Indonesia 12790']"
      ]
     },
     "execution_count": 19,
     "metadata": {},
     "output_type": "execute_result"
    }
   ],
   "source": [
    "daftar_alamat"
   ]
  },
  {
   "cell_type": "code",
   "execution_count": 20,
   "id": "d872a398",
   "metadata": {},
   "outputs": [],
   "source": [
    "data = {\n",
    "    'Nama Perusahaan Asuransi': daftar_asuransi,\n",
    "    'Kontak Telepon': daftar_kontak,\n",
    "    'Alamat Praktek': daftar_alamat\n",
    "}"
   ]
  },
  {
   "cell_type": "code",
   "execution_count": 21,
   "id": "01a8263b",
   "metadata": {},
   "outputs": [
    {
     "data": {
      "text/html": [
       "<div>\n",
       "<style scoped>\n",
       "    .dataframe tbody tr th:only-of-type {\n",
       "        vertical-align: middle;\n",
       "    }\n",
       "\n",
       "    .dataframe tbody tr th {\n",
       "        vertical-align: top;\n",
       "    }\n",
       "\n",
       "    .dataframe thead th {\n",
       "        text-align: right;\n",
       "    }\n",
       "</style>\n",
       "<table border=\"1\" class=\"dataframe\">\n",
       "  <thead>\n",
       "    <tr style=\"text-align: right;\">\n",
       "      <th></th>\n",
       "      <th>Nama Perusahaan Asuransi</th>\n",
       "      <th>Kontak Telepon</th>\n",
       "      <th>Alamat Praktek</th>\n",
       "    </tr>\n",
       "  </thead>\n",
       "  <tbody>\n",
       "    <tr>\n",
       "      <th>0</th>\n",
       "      <td>PT. Asuransi Jiwa Adisarana Wanartha</td>\n",
       "      <td>(621) 798-5179</td>\n",
       "      <td>76 Jl. Mampang Prapatan Jakarta, 12790 Indonesia</td>\n",
       "    </tr>\n",
       "    <tr>\n",
       "      <th>1</th>\n",
       "      <td>PT.Asuransi Buana Independent</td>\n",
       "      <td>(021)  6266286</td>\n",
       "      <td>Jl. Pintu Besar Selatan No.78 - Jakarta 11110</td>\n",
       "    </tr>\n",
       "    <tr>\n",
       "      <th>2</th>\n",
       "      <td>PT Asuransi Asei Indonesia</td>\n",
       "      <td>(021) 3503737</td>\n",
       "      <td>Gedung Graha Asei lantai 3 Jl. Abdul Muis No. ...</td>\n",
       "    </tr>\n",
       "    <tr>\n",
       "      <th>3</th>\n",
       "      <td>PT ASURANSI EKA LLOYD JAYA</td>\n",
       "      <td>(021) 29533260</td>\n",
       "      <td>Gedung H Tower,Lantai 11,Unit F &amp; G ,JL H,R.Ra...</td>\n",
       "    </tr>\n",
       "    <tr>\n",
       "      <th>4</th>\n",
       "      <td>PT.Asuransi Bina Dana Arta</td>\n",
       "      <td>(021) 51401688</td>\n",
       "      <td>Plaza ABDA, 27th Floor Jl. Jendral Sudirman Ka...</td>\n",
       "    </tr>\n",
       "    <tr>\n",
       "      <th>5</th>\n",
       "      <td>PT Lippo General Insurance</td>\n",
       "      <td>(021) 5256161</td>\n",
       "      <td>Lippo Kuningan Building Lt.27 Unit A &amp; F Jl. H...</td>\n",
       "    </tr>\n",
       "    <tr>\n",
       "      <th>6</th>\n",
       "      <td>PT. QBE General Insurance Indonesia</td>\n",
       "      <td>(021) 5723737</td>\n",
       "      <td>MidPlaza 2, 23rd Floor, Jalan Jenderal Sudirma...</td>\n",
       "    </tr>\n",
       "    <tr>\n",
       "      <th>7</th>\n",
       "      <td>PT Sompo Insurance Indonesia</td>\n",
       "      <td>(021) 2500890</td>\n",
       "      <td>Mayapada Tower II, 19th Floor - Jl. Jendral Su...</td>\n",
       "    </tr>\n",
       "    <tr>\n",
       "      <th>8</th>\n",
       "      <td>PT Asuransi Rama Satria Wibawa</td>\n",
       "      <td>(021) 5261221</td>\n",
       "      <td>Graha Irama 10th Floor Jl. H.R. Rasuna Said Bl...</td>\n",
       "    </tr>\n",
       "    <tr>\n",
       "      <th>9</th>\n",
       "      <td>PT Asuransi Purna Artanugraha</td>\n",
       "      <td>(021) 5255070</td>\n",
       "      <td>Wisma Bumiputera Lt.16 Jl. Jenderal Sudirman K...</td>\n",
       "    </tr>\n",
       "    <tr>\n",
       "      <th>10</th>\n",
       "      <td>PT.Asuransi Himalaya Pelindung</td>\n",
       "      <td>(021) 29067188</td>\n",
       "      <td>Himalaya Pelindung Insurance Building Lantai 3...</td>\n",
       "    </tr>\n",
       "    <tr>\n",
       "      <th>11</th>\n",
       "      <td>PT.BRINS General Insurance</td>\n",
       "      <td>(021) 79170477 / 78</td>\n",
       "      <td>Jl. Mampang Prapatan Raya No. 18 Jakarta Selat...</td>\n",
       "    </tr>\n",
       "  </tbody>\n",
       "</table>\n",
       "</div>"
      ],
      "text/plain": [
       "                Nama Perusahaan Asuransi       Kontak Telepon  \\\n",
       "0   PT. Asuransi Jiwa Adisarana Wanartha       (621) 798-5179   \n",
       "1          PT.Asuransi Buana Independent       (021)  6266286   \n",
       "2             PT Asuransi Asei Indonesia        (021) 3503737   \n",
       "3             PT ASURANSI EKA LLOYD JAYA       (021) 29533260   \n",
       "4             PT.Asuransi Bina Dana Arta       (021) 51401688   \n",
       "5             PT Lippo General Insurance        (021) 5256161   \n",
       "6    PT. QBE General Insurance Indonesia       (021) 5723737    \n",
       "7           PT Sompo Insurance Indonesia        (021) 2500890   \n",
       "8         PT Asuransi Rama Satria Wibawa       (021) 5261221    \n",
       "9          PT Asuransi Purna Artanugraha        (021) 5255070   \n",
       "10        PT.Asuransi Himalaya Pelindung       (021) 29067188   \n",
       "11            PT.BRINS General Insurance  (021) 79170477 / 78   \n",
       "\n",
       "                                       Alamat Praktek  \n",
       "0    76 Jl. Mampang Prapatan Jakarta, 12790 Indonesia  \n",
       "1       Jl. Pintu Besar Selatan No.78 - Jakarta 11110  \n",
       "2   Gedung Graha Asei lantai 3 Jl. Abdul Muis No. ...  \n",
       "3   Gedung H Tower,Lantai 11,Unit F & G ,JL H,R.Ra...  \n",
       "4   Plaza ABDA, 27th Floor Jl. Jendral Sudirman Ka...  \n",
       "5   Lippo Kuningan Building Lt.27 Unit A & F Jl. H...  \n",
       "6   MidPlaza 2, 23rd Floor, Jalan Jenderal Sudirma...  \n",
       "7   Mayapada Tower II, 19th Floor - Jl. Jendral Su...  \n",
       "8   Graha Irama 10th Floor Jl. H.R. Rasuna Said Bl...  \n",
       "9   Wisma Bumiputera Lt.16 Jl. Jenderal Sudirman K...  \n",
       "10  Himalaya Pelindung Insurance Building Lantai 3...  \n",
       "11  Jl. Mampang Prapatan Raya No. 18 Jakarta Selat...  "
      ]
     },
     "execution_count": 21,
     "metadata": {},
     "output_type": "execute_result"
    }
   ],
   "source": [
    "pd.DataFrame(data)"
   ]
  },
  {
   "cell_type": "code",
   "execution_count": 52,
   "id": "ed685bd9",
   "metadata": {},
   "outputs": [
    {
     "data": {
      "text/html": [
       "<div>\n",
       "<style scoped>\n",
       "    .dataframe tbody tr th:only-of-type {\n",
       "        vertical-align: middle;\n",
       "    }\n",
       "\n",
       "    .dataframe tbody tr th {\n",
       "        vertical-align: top;\n",
       "    }\n",
       "\n",
       "    .dataframe thead th {\n",
       "        text-align: right;\n",
       "    }\n",
       "</style>\n",
       "<table border=\"1\" class=\"dataframe\">\n",
       "  <thead>\n",
       "    <tr style=\"text-align: right;\">\n",
       "      <th></th>\n",
       "      <th>Nama Perusahaan Asuransi</th>\n",
       "      <th>Kontak Telepon</th>\n",
       "      <th>Alamat Praktek</th>\n",
       "    </tr>\n",
       "  </thead>\n",
       "  <tbody>\n",
       "    <tr>\n",
       "      <th>0</th>\n",
       "      <td>PT. Asuransi Jiwa Adisarana Wanartha</td>\n",
       "      <td>(621) 798-5179</td>\n",
       "      <td>76 Jl. Mampang Prapatan Jakarta, 12790 Indonesia</td>\n",
       "    </tr>\n",
       "    <tr>\n",
       "      <th>1</th>\n",
       "      <td>PT.Asuransi Buana Independent</td>\n",
       "      <td>(021)  6266286</td>\n",
       "      <td>Jl. Pintu Besar Selatan No.78 - Jakarta 11110</td>\n",
       "    </tr>\n",
       "    <tr>\n",
       "      <th>2</th>\n",
       "      <td>PT Asuransi Asei Indonesia</td>\n",
       "      <td>(021) 3503737</td>\n",
       "      <td>Gedung Graha Asei lantai 3 Jl. Abdul Muis No. ...</td>\n",
       "    </tr>\n",
       "    <tr>\n",
       "      <th>3</th>\n",
       "      <td>PT ASURANSI EKA LLOYD JAYA</td>\n",
       "      <td>(021) 29533260</td>\n",
       "      <td>Gedung H Tower,Lantai 11,Unit F &amp; G ,JL H,R.Ra...</td>\n",
       "    </tr>\n",
       "    <tr>\n",
       "      <th>4</th>\n",
       "      <td>PT.Asuransi Bina Dana Arta</td>\n",
       "      <td>(021) 51401688</td>\n",
       "      <td>Plaza ABDA, 27th Floor Jl. Jendral Sudirman Ka...</td>\n",
       "    </tr>\n",
       "    <tr>\n",
       "      <th>5</th>\n",
       "      <td>PT Lippo General Insurance</td>\n",
       "      <td>(021) 5256161</td>\n",
       "      <td>Lippo Kuningan Building Lt.27 Unit A &amp; F Jl. H...</td>\n",
       "    </tr>\n",
       "    <tr>\n",
       "      <th>6</th>\n",
       "      <td>PT. QBE General Insurance Indonesia</td>\n",
       "      <td>(021) 5723737</td>\n",
       "      <td>MidPlaza 2, 23rd Floor, Jalan Jenderal Sudirma...</td>\n",
       "    </tr>\n",
       "    <tr>\n",
       "      <th>7</th>\n",
       "      <td>PT Sompo Insurance Indonesia</td>\n",
       "      <td>(021) 2500890</td>\n",
       "      <td>Mayapada Tower II, 19th Floor - Jl. Jendral Su...</td>\n",
       "    </tr>\n",
       "    <tr>\n",
       "      <th>8</th>\n",
       "      <td>PT Asuransi Rama Satria Wibawa</td>\n",
       "      <td>(021) 5261221</td>\n",
       "      <td>Graha Irama 10th Floor Jl. H.R. Rasuna Said Bl...</td>\n",
       "    </tr>\n",
       "    <tr>\n",
       "      <th>9</th>\n",
       "      <td>PT Asuransi Purna Artanugraha</td>\n",
       "      <td>(021) 5255070</td>\n",
       "      <td>Wisma Bumiputera Lt.16 Jl. Jenderal Sudirman K...</td>\n",
       "    </tr>\n",
       "    <tr>\n",
       "      <th>10</th>\n",
       "      <td>PT.Asuransi Himalaya Pelindung</td>\n",
       "      <td>(021) 29067188</td>\n",
       "      <td>Himalaya Pelindung Insurance Building Lantai 3...</td>\n",
       "    </tr>\n",
       "    <tr>\n",
       "      <th>11</th>\n",
       "      <td>PT.BRINS General Insurance</td>\n",
       "      <td>(021) 79170477 / 78</td>\n",
       "      <td>Jl. Mampang Prapatan Raya No. 18 Jakarta Selat...</td>\n",
       "    </tr>\n",
       "  </tbody>\n",
       "</table>\n",
       "</div>"
      ],
      "text/plain": [
       "                Nama Perusahaan Asuransi       Kontak Telepon  \\\n",
       "0   PT. Asuransi Jiwa Adisarana Wanartha       (621) 798-5179   \n",
       "1          PT.Asuransi Buana Independent       (021)  6266286   \n",
       "2             PT Asuransi Asei Indonesia        (021) 3503737   \n",
       "3             PT ASURANSI EKA LLOYD JAYA       (021) 29533260   \n",
       "4             PT.Asuransi Bina Dana Arta       (021) 51401688   \n",
       "5             PT Lippo General Insurance        (021) 5256161   \n",
       "6    PT. QBE General Insurance Indonesia       (021) 5723737    \n",
       "7           PT Sompo Insurance Indonesia        (021) 2500890   \n",
       "8         PT Asuransi Rama Satria Wibawa       (021) 5261221    \n",
       "9          PT Asuransi Purna Artanugraha        (021) 5255070   \n",
       "10        PT.Asuransi Himalaya Pelindung       (021) 29067188   \n",
       "11            PT.BRINS General Insurance  (021) 79170477 / 78   \n",
       "\n",
       "                                       Alamat Praktek  \n",
       "0    76 Jl. Mampang Prapatan Jakarta, 12790 Indonesia  \n",
       "1       Jl. Pintu Besar Selatan No.78 - Jakarta 11110  \n",
       "2   Gedung Graha Asei lantai 3 Jl. Abdul Muis No. ...  \n",
       "3   Gedung H Tower,Lantai 11,Unit F & G ,JL H,R.Ra...  \n",
       "4   Plaza ABDA, 27th Floor Jl. Jendral Sudirman Ka...  \n",
       "5   Lippo Kuningan Building Lt.27 Unit A & F Jl. H...  \n",
       "6   MidPlaza 2, 23rd Floor, Jalan Jenderal Sudirma...  \n",
       "7   Mayapada Tower II, 19th Floor - Jl. Jendral Su...  \n",
       "8   Graha Irama 10th Floor Jl. H.R. Rasuna Said Bl...  \n",
       "9   Wisma Bumiputera Lt.16 Jl. Jenderal Sudirman K...  \n",
       "10  Himalaya Pelindung Insurance Building Lantai 3...  \n",
       "11  Jl. Mampang Prapatan Raya No. 18 Jakarta Selat...  "
      ]
     },
     "execution_count": 52,
     "metadata": {},
     "output_type": "execute_result"
    }
   ],
   "source": [
    "df = pd.DataFrame(data)\n",
    "df"
   ]
  },
  {
   "cell_type": "code",
   "execution_count": 53,
   "id": "630fb974",
   "metadata": {},
   "outputs": [],
   "source": [
    "df.to_csv('perusahaan_asuransi.csv')"
   ]
  },
  {
   "cell_type": "code",
   "execution_count": 56,
   "id": "9336b671",
   "metadata": {},
   "outputs": [
    {
     "data": {
      "text/html": [
       "<div>\n",
       "<style scoped>\n",
       "    .dataframe tbody tr th:only-of-type {\n",
       "        vertical-align: middle;\n",
       "    }\n",
       "\n",
       "    .dataframe tbody tr th {\n",
       "        vertical-align: top;\n",
       "    }\n",
       "\n",
       "    .dataframe thead th {\n",
       "        text-align: right;\n",
       "    }\n",
       "</style>\n",
       "<table border=\"1\" class=\"dataframe\">\n",
       "  <thead>\n",
       "    <tr style=\"text-align: right;\">\n",
       "      <th></th>\n",
       "      <th>Nama Perusahaan Asuransi</th>\n",
       "      <th>Kontak Telepon</th>\n",
       "      <th>Alamat Praktek</th>\n",
       "    </tr>\n",
       "  </thead>\n",
       "  <tbody>\n",
       "    <tr>\n",
       "      <th>0</th>\n",
       "      <td>PT. Asuransi Jiwa Adisarana Wanartha</td>\n",
       "      <td>(621) 798-5179</td>\n",
       "      <td>76 Jl. Mampang Prapatan Jakarta, 12790 Indonesia</td>\n",
       "    </tr>\n",
       "    <tr>\n",
       "      <th>1</th>\n",
       "      <td>PT.Asuransi Buana Independent</td>\n",
       "      <td>(021)  6266286</td>\n",
       "      <td>Jl. Pintu Besar Selatan No.78 - Jakarta 11110</td>\n",
       "    </tr>\n",
       "    <tr>\n",
       "      <th>2</th>\n",
       "      <td>PT Asuransi Asei Indonesia</td>\n",
       "      <td>(021) 3503737</td>\n",
       "      <td>Gedung Graha Asei lantai 3 Jl. Abdul Muis No. ...</td>\n",
       "    </tr>\n",
       "    <tr>\n",
       "      <th>3</th>\n",
       "      <td>PT ASURANSI EKA LLOYD JAYA</td>\n",
       "      <td>(021) 29533260</td>\n",
       "      <td>Gedung H Tower,Lantai 11,Unit F &amp; G ,JL H,R.Ra...</td>\n",
       "    </tr>\n",
       "    <tr>\n",
       "      <th>4</th>\n",
       "      <td>PT.Asuransi Bina Dana Arta</td>\n",
       "      <td>(021) 51401688</td>\n",
       "      <td>Plaza ABDA, 27th Floor Jl. Jendral Sudirman Ka...</td>\n",
       "    </tr>\n",
       "    <tr>\n",
       "      <th>5</th>\n",
       "      <td>PT Lippo General Insurance</td>\n",
       "      <td>(021) 5256161</td>\n",
       "      <td>Lippo Kuningan Building Lt.27 Unit A &amp; F Jl. H...</td>\n",
       "    </tr>\n",
       "    <tr>\n",
       "      <th>6</th>\n",
       "      <td>PT. QBE General Insurance Indonesia</td>\n",
       "      <td>(021) 5723737</td>\n",
       "      <td>MidPlaza 2, 23rd Floor, Jalan Jenderal Sudirma...</td>\n",
       "    </tr>\n",
       "    <tr>\n",
       "      <th>7</th>\n",
       "      <td>PT Sompo Insurance Indonesia</td>\n",
       "      <td>(021) 2500890</td>\n",
       "      <td>Mayapada Tower II, 19th Floor - Jl. Jendral Su...</td>\n",
       "    </tr>\n",
       "    <tr>\n",
       "      <th>8</th>\n",
       "      <td>PT Asuransi Rama Satria Wibawa</td>\n",
       "      <td>(021) 5261221</td>\n",
       "      <td>Graha Irama 10th Floor Jl. H.R. Rasuna Said Bl...</td>\n",
       "    </tr>\n",
       "    <tr>\n",
       "      <th>9</th>\n",
       "      <td>PT Asuransi Purna Artanugraha</td>\n",
       "      <td>(021) 5255070</td>\n",
       "      <td>Wisma Bumiputera Lt.16 Jl. Jenderal Sudirman K...</td>\n",
       "    </tr>\n",
       "    <tr>\n",
       "      <th>10</th>\n",
       "      <td>PT.Asuransi Himalaya Pelindung</td>\n",
       "      <td>(021) 29067188</td>\n",
       "      <td>Himalaya Pelindung Insurance Building Lantai 3...</td>\n",
       "    </tr>\n",
       "    <tr>\n",
       "      <th>11</th>\n",
       "      <td>PT.BRINS General Insurance</td>\n",
       "      <td>(021) 79170477 / 78</td>\n",
       "      <td>Jl. Mampang Prapatan Raya No. 18 Jakarta Selat...</td>\n",
       "    </tr>\n",
       "  </tbody>\n",
       "</table>\n",
       "</div>"
      ],
      "text/plain": [
       "                Nama Perusahaan Asuransi       Kontak Telepon  \\\n",
       "0   PT. Asuransi Jiwa Adisarana Wanartha       (621) 798-5179   \n",
       "1          PT.Asuransi Buana Independent       (021)  6266286   \n",
       "2             PT Asuransi Asei Indonesia        (021) 3503737   \n",
       "3             PT ASURANSI EKA LLOYD JAYA       (021) 29533260   \n",
       "4             PT.Asuransi Bina Dana Arta       (021) 51401688   \n",
       "5             PT Lippo General Insurance        (021) 5256161   \n",
       "6    PT. QBE General Insurance Indonesia       (021) 5723737    \n",
       "7           PT Sompo Insurance Indonesia        (021) 2500890   \n",
       "8         PT Asuransi Rama Satria Wibawa       (021) 5261221    \n",
       "9          PT Asuransi Purna Artanugraha        (021) 5255070   \n",
       "10        PT.Asuransi Himalaya Pelindung       (021) 29067188   \n",
       "11            PT.BRINS General Insurance  (021) 79170477 / 78   \n",
       "\n",
       "                                       Alamat Praktek  \n",
       "0    76 Jl. Mampang Prapatan Jakarta, 12790 Indonesia  \n",
       "1       Jl. Pintu Besar Selatan No.78 - Jakarta 11110  \n",
       "2   Gedung Graha Asei lantai 3 Jl. Abdul Muis No. ...  \n",
       "3   Gedung H Tower,Lantai 11,Unit F & G ,JL H,R.Ra...  \n",
       "4   Plaza ABDA, 27th Floor Jl. Jendral Sudirman Ka...  \n",
       "5   Lippo Kuningan Building Lt.27 Unit A & F Jl. H...  \n",
       "6   MidPlaza 2, 23rd Floor, Jalan Jenderal Sudirma...  \n",
       "7   Mayapada Tower II, 19th Floor - Jl. Jendral Su...  \n",
       "8   Graha Irama 10th Floor Jl. H.R. Rasuna Said Bl...  \n",
       "9   Wisma Bumiputera Lt.16 Jl. Jenderal Sudirman K...  \n",
       "10  Himalaya Pelindung Insurance Building Lantai 3...  \n",
       "11  Jl. Mampang Prapatan Raya No. 18 Jakarta Selat...  "
      ]
     },
     "execution_count": 56,
     "metadata": {},
     "output_type": "execute_result"
    }
   ],
   "source": [
    "df = pd.read_csv('perusahaan_asuransi.csv', index_col=0)\n",
    "df"
   ]
  },
  {
   "cell_type": "code",
   "execution_count": 77,
   "id": "d877b86c",
   "metadata": {},
   "outputs": [],
   "source": [
    "df.to_excel('asuransiku.xlsx')"
   ]
  },
  {
   "cell_type": "code",
   "execution_count": 79,
   "id": "bbb3290e",
   "metadata": {},
   "outputs": [
    {
     "data": {
      "text/html": [
       "<div>\n",
       "<style scoped>\n",
       "    .dataframe tbody tr th:only-of-type {\n",
       "        vertical-align: middle;\n",
       "    }\n",
       "\n",
       "    .dataframe tbody tr th {\n",
       "        vertical-align: top;\n",
       "    }\n",
       "\n",
       "    .dataframe thead th {\n",
       "        text-align: right;\n",
       "    }\n",
       "</style>\n",
       "<table border=\"1\" class=\"dataframe\">\n",
       "  <thead>\n",
       "    <tr style=\"text-align: right;\">\n",
       "      <th></th>\n",
       "      <th>Nama Perusahaan Asuransi</th>\n",
       "      <th>Kontak Telepon</th>\n",
       "      <th>Alamat Praktek</th>\n",
       "    </tr>\n",
       "  </thead>\n",
       "  <tbody>\n",
       "    <tr>\n",
       "      <th>0</th>\n",
       "      <td>PT. Asuransi Jiwa Adisarana Wanartha</td>\n",
       "      <td>(621) 798-5179</td>\n",
       "      <td>76 Jl. Mampang Prapatan Jakarta, 12790 Indonesia</td>\n",
       "    </tr>\n",
       "    <tr>\n",
       "      <th>1</th>\n",
       "      <td>PT.Asuransi Buana Independent</td>\n",
       "      <td>(021)  6266286</td>\n",
       "      <td>Jl. Pintu Besar Selatan No.78 - Jakarta 11110</td>\n",
       "    </tr>\n",
       "    <tr>\n",
       "      <th>2</th>\n",
       "      <td>PT Asuransi Asei Indonesia</td>\n",
       "      <td>(021) 3503737</td>\n",
       "      <td>Gedung Graha Asei lantai 3 Jl. Abdul Muis No. ...</td>\n",
       "    </tr>\n",
       "    <tr>\n",
       "      <th>3</th>\n",
       "      <td>PT ASURANSI EKA LLOYD JAYA</td>\n",
       "      <td>(021) 29533260</td>\n",
       "      <td>Gedung H Tower,Lantai 11,Unit F &amp; G ,JL H,R.Ra...</td>\n",
       "    </tr>\n",
       "    <tr>\n",
       "      <th>4</th>\n",
       "      <td>PT.Asuransi Bina Dana Arta</td>\n",
       "      <td>(021) 51401688</td>\n",
       "      <td>Plaza ABDA, 27th Floor Jl. Jendral Sudirman Ka...</td>\n",
       "    </tr>\n",
       "    <tr>\n",
       "      <th>5</th>\n",
       "      <td>PT Lippo General Insurance</td>\n",
       "      <td>(021) 5256161</td>\n",
       "      <td>Lippo Kuningan Building Lt.27 Unit A &amp; F Jl. H...</td>\n",
       "    </tr>\n",
       "    <tr>\n",
       "      <th>6</th>\n",
       "      <td>PT. QBE General Insurance Indonesia</td>\n",
       "      <td>(021) 5723737</td>\n",
       "      <td>MidPlaza 2, 23rd Floor, Jalan Jenderal Sudirma...</td>\n",
       "    </tr>\n",
       "    <tr>\n",
       "      <th>7</th>\n",
       "      <td>PT Sompo Insurance Indonesia</td>\n",
       "      <td>(021) 2500890</td>\n",
       "      <td>Mayapada Tower II, 19th Floor - Jl. Jendral Su...</td>\n",
       "    </tr>\n",
       "    <tr>\n",
       "      <th>8</th>\n",
       "      <td>PT Asuransi Rama Satria Wibawa</td>\n",
       "      <td>(021) 5261221</td>\n",
       "      <td>Graha Irama 10th Floor Jl. H.R. Rasuna Said Bl...</td>\n",
       "    </tr>\n",
       "    <tr>\n",
       "      <th>9</th>\n",
       "      <td>PT Asuransi Purna Artanugraha</td>\n",
       "      <td>(021) 5255070</td>\n",
       "      <td>Wisma Bumiputera Lt.16 Jl. Jenderal Sudirman K...</td>\n",
       "    </tr>\n",
       "    <tr>\n",
       "      <th>10</th>\n",
       "      <td>PT.Asuransi Himalaya Pelindung</td>\n",
       "      <td>(021) 29067188</td>\n",
       "      <td>Himalaya Pelindung Insurance Building Lantai 3...</td>\n",
       "    </tr>\n",
       "    <tr>\n",
       "      <th>11</th>\n",
       "      <td>PT.BRINS General Insurance</td>\n",
       "      <td>(021) 79170477 / 78</td>\n",
       "      <td>Jl. Mampang Prapatan Raya No. 18 Jakarta Selat...</td>\n",
       "    </tr>\n",
       "  </tbody>\n",
       "</table>\n",
       "</div>"
      ],
      "text/plain": [
       "                Nama Perusahaan Asuransi       Kontak Telepon  \\\n",
       "0   PT. Asuransi Jiwa Adisarana Wanartha       (621) 798-5179   \n",
       "1          PT.Asuransi Buana Independent       (021)  6266286   \n",
       "2             PT Asuransi Asei Indonesia        (021) 3503737   \n",
       "3             PT ASURANSI EKA LLOYD JAYA       (021) 29533260   \n",
       "4             PT.Asuransi Bina Dana Arta       (021) 51401688   \n",
       "5             PT Lippo General Insurance        (021) 5256161   \n",
       "6    PT. QBE General Insurance Indonesia       (021) 5723737    \n",
       "7           PT Sompo Insurance Indonesia        (021) 2500890   \n",
       "8         PT Asuransi Rama Satria Wibawa       (021) 5261221    \n",
       "9          PT Asuransi Purna Artanugraha        (021) 5255070   \n",
       "10        PT.Asuransi Himalaya Pelindung       (021) 29067188   \n",
       "11            PT.BRINS General Insurance  (021) 79170477 / 78   \n",
       "\n",
       "                                       Alamat Praktek  \n",
       "0    76 Jl. Mampang Prapatan Jakarta, 12790 Indonesia  \n",
       "1       Jl. Pintu Besar Selatan No.78 - Jakarta 11110  \n",
       "2   Gedung Graha Asei lantai 3 Jl. Abdul Muis No. ...  \n",
       "3   Gedung H Tower,Lantai 11,Unit F & G ,JL H,R.Ra...  \n",
       "4   Plaza ABDA, 27th Floor Jl. Jendral Sudirman Ka...  \n",
       "5   Lippo Kuningan Building Lt.27 Unit A & F Jl. H...  \n",
       "6   MidPlaza 2, 23rd Floor, Jalan Jenderal Sudirma...  \n",
       "7   Mayapada Tower II, 19th Floor - Jl. Jendral Su...  \n",
       "8   Graha Irama 10th Floor Jl. H.R. Rasuna Said Bl...  \n",
       "9   Wisma Bumiputera Lt.16 Jl. Jenderal Sudirman K...  \n",
       "10  Himalaya Pelindung Insurance Building Lantai 3...  \n",
       "11  Jl. Mampang Prapatan Raya No. 18 Jakarta Selat...  "
      ]
     },
     "execution_count": 79,
     "metadata": {},
     "output_type": "execute_result"
    }
   ],
   "source": [
    "df = pd.read_excel('asuransiku.xlsx', index_col=0)\n",
    "df"
   ]
  }
 ],
 "metadata": {
  "kernelspec": {
   "display_name": "Python 3 (ipykernel)",
   "language": "python",
   "name": "python3"
  },
  "language_info": {
   "codemirror_mode": {
    "name": "ipython",
    "version": 3
   },
   "file_extension": ".py",
   "mimetype": "text/x-python",
   "name": "python",
   "nbconvert_exporter": "python",
   "pygments_lexer": "ipython3",
   "version": "3.9.12"
  }
 },
 "nbformat": 4,
 "nbformat_minor": 5
}
